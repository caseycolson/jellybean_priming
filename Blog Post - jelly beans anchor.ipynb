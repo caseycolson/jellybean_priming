{
 "cells": [
  {
   "cell_type": "code",
   "execution_count": 97,
   "id": "d23c39fe",
   "metadata": {},
   "outputs": [],
   "source": [
    "import numpy as np\n",
    "import pandas as pd\n",
    "import matplotlib.pyplot as plt"
   ]
  },
  {
   "cell_type": "code",
   "execution_count": 111,
   "id": "13a0c1d9",
   "metadata": {},
   "outputs": [],
   "source": [
    "df_low = pd.read_csv(r'low.txt')\n",
    "df_high = pd.read_csv(r'high.txt')"
   ]
  },
  {
   "cell_type": "code",
   "execution_count": 112,
   "id": "ddec72c9",
   "metadata": {},
   "outputs": [
    {
     "data": {
      "text/plain": [
       "guess    1144.388889\n",
       "dtype: float64"
      ]
     },
     "execution_count": 112,
     "metadata": {},
     "output_type": "execute_result"
    }
   ],
   "source": [
    "df_high.mean()"
   ]
  },
  {
   "cell_type": "code",
   "execution_count": 113,
   "id": "a57d4986",
   "metadata": {},
   "outputs": [
    {
     "data": {
      "image/png": "[encoded data removed]",
      "text/plain": [
       "<Figure size 432x288 with 1 Axes>"
      ]
     },
     "metadata": {
      "needs_background": "light"
     },
     "output_type": "display_data"
    }
   ],
   "source": [
    "plt.hist(df_high, bins=10, density=True, color='blue', alpha=0.3)\n",
    "plt.hist(df_low, bins=10, density=True, color='red', alpha=0.3)\n",
    "plt.show()"
   ]
  },
  {
   "cell_type": "code",
   "execution_count": 119,
   "id": "8bff51e5",
   "metadata": {},
   "outputs": [
    {
     "data": {
      "text/plain": [
       "guess    1144.388889\n",
       "dtype: float64"
      ]
     },
     "execution_count": 119,
     "metadata": {},
     "output_type": "execute_result"
    }
   ],
   "source": [
    "df_high.mean()"
   ]
  },
  {
   "cell_type": "code",
   "execution_count": 115,
   "id": "2c9d2a34",
   "metadata": {
    "scrolled": true
   },
   "outputs": [
    {
     "name": "stderr",
     "output_type": "stream",
     "text": [
      "/var/folders/1z/rjlj654x5_g22cdxds1qk00w0000gn/T/ipykernel_87543/423364218.py:1: FutureWarning: The frame.append method is deprecated and will be removed from pandas in a future version. Use pandas.concat instead.\n",
      "  df = df_low.append(df_high)\n"
     ]
    }
   ],
   "source": [
    "df = df_low.append(df_high)"
   ]
  },
  {
   "cell_type": "code",
   "execution_count": 117,
   "id": "a2ad1069",
   "metadata": {},
   "outputs": [
    {
     "data": {
      "text/plain": [
       "guess    1020.85567\n",
       "dtype: float64"
      ]
     },
     "execution_count": 117,
     "metadata": {},
     "output_type": "execute_result"
    }
   ],
   "source": [
    "df.mean()"
   ]
  },
  {
   "cell_type": "code",
   "execution_count": 51,
   "id": "fb576205",
   "metadata": {},
   "outputs": [
    {
     "data": {
      "text/plain": [
       "29"
      ]
     },
     "execution_count": 51,
     "metadata": {},
     "output_type": "execute_result"
    }
   ],
   "source": []
  }
 ],
 "metadata": {
  "kernelspec": {
   "display_name": "Python 3 (ipykernel)",
   "language": "python",
   "name": "python3"
  },
  "language_info": {
   "codemirror_mode": {
    "name": "ipython",
    "version": 3
   },
   "file_extension": ".py",
   "mimetype": "text/x-python",
   "name": "python",
   "nbconvert_exporter": "python",
   "pygments_lexer": "ipython3",
   "version": "3.9.12"
  }
 },
 "nbformat": 4,
 "nbformat_minor": 5
}
